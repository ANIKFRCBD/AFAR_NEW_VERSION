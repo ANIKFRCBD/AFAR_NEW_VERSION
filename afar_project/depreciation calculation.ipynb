{
 "cells": [
  {
   "cell_type": "code",
   "execution_count": 1,
   "id": "c071c931-2e0f-46da-a631-79bdd03be655",
   "metadata": {},
   "outputs": [],
   "source": [
    "import pandas as pd\n",
    "from datetime import datetime"
   ]
  },
  {
   "cell_type": "code",
   "execution_count": 4,
   "id": "74b12ff9-303e-4c10-b84a-5fd8edd9ff3f",
   "metadata": {},
   "outputs": [
    {
     "name": "stdout",
     "output_type": "stream",
     "text": [
      "    Financial Year          Asset Code        Purchase date  Sl   Bill no  \\\n",
      "0        2017-2018  FRC-HQ-OE-2017-001  2017-12-09 00:00:00    1       12   \n",
      "1        2017-2018  FRC-HQ-OE-2017-002  2017-12-09 00:00:00    2       12   \n",
      "2        2017-2018  FRC-HQ-OE-2017-003  2017-12-09 00:00:00    3       12   \n",
      "3        2017-2018  FRC-HQ-OE-2017-004  2017-12-09 00:00:00    4       12   \n",
      "4        2017-2018  FRC-HQ-OE-2017-005  2017-12-09 00:00:00    5       12   \n",
      "..             ...                 ...                  ...  ...      ...   \n",
      "295      2021-2022  FRC-HQ-FL-2022-297           30/06/2022  297      272   \n",
      "296      2021-2022  FRC-HQ-FL-2022-298           30/06/2022  298      272   \n",
      "297      2021-2022  FRC-HQ-FL-2022-299           30/06/2022  299      272   \n",
      "298      2021-2022  FRC-HQ-FL-2022-300           30/06/2022  300      272   \n",
      "299      2021-2022  FRC-HQ-FL-2022-301           30/06/2022  301      272   \n",
      "\n",
      "     Economic Code               Category  \\\n",
      "0        4112310.0       Office equipment   \n",
      "1        4112310.0       Office equipment   \n",
      "2        4112310.0       Office equipment   \n",
      "3        4112310.0       Office equipment   \n",
      "4        4112310.0       Office equipment   \n",
      "..             ...                    ...   \n",
      "295            NaN  Furniture (Leasehold)   \n",
      "296            NaN  Furniture (Leasehold)   \n",
      "297            NaN  Furniture (Leasehold)   \n",
      "298            NaN  Furniture (Leasehold)   \n",
      "299            NaN  Furniture (Leasehold)   \n",
      "\n",
      "                              Name of Item   Brand Name   Model/Type  ...  \\\n",
      "0                              Fixed Chair  Rubel/Local  AFL-CRV-122  ...   \n",
      "1                          Sider Extension  Rubel/Local  AFL-OSX-203  ...   \n",
      "2                          Executive Table  Rubel/Local  AFL-OTE-103  ...   \n",
      "3                              Drawer Unit  Rubel/Local  AFL-CXD-201  ...   \n",
      "4                             Swivel Chair  Rubel/Local  AFL-CRS-104  ...   \n",
      "..                                     ...          ...          ...  ...   \n",
      "295                      ED Visitor Chair           NaN          NaN  ...   \n",
      "296                        Director Chair           NaN          NaN  ...   \n",
      "297        IT,Accounts,Head of Admin Chair          NaN          NaN  ...   \n",
      "298  Executive Director Double Seater Sofa          NaN          NaN  ...   \n",
      "299                    Open Collaboration           NaN          NaN  ...   \n",
      "\n",
      "    Cost of Assets Sold  Current Balance  Accumulated Depreciation 2017-2018  \\\n",
      "0               28431.0          28431.0                         0         0   \n",
      "1                   0.0          22253.0                         0         0   \n",
      "2                   0.0          10810.0                         0         0   \n",
      "3                   0.0          21481.0                         0         0   \n",
      "4                   0.0          11653.0                         0         0   \n",
      "..                  ...              ...                       ...       ...   \n",
      "295                 0.0         120000.0                         0         0   \n",
      "296                 0.0          78800.0                         0         0   \n",
      "297                 0.0          50100.0                         0         0   \n",
      "298                 0.0         188000.0                         0         0   \n",
      "299                 0.0          45500.0                         0         0   \n",
      "\n",
      "     2018-2019  2019-2020  2020-2021  2021-2022  2022-2023  2023-2024  \n",
      "0            0          0          0          0          0          0  \n",
      "1            0          0          0          0          0          0  \n",
      "2            0          0          0          0          0          0  \n",
      "3            0          0          0          0          0          0  \n",
      "4            0          0          0          0          0          0  \n",
      "..         ...        ...        ...        ...        ...        ...  \n",
      "295          0          0          0          0          0          0  \n",
      "296          0          0          0          0          0          0  \n",
      "297          0          0          0          0          0          0  \n",
      "298          0          0          0          0          0          0  \n",
      "299          0          0          0          0          0          0  \n",
      "\n",
      "[300 rows x 24 columns]\n"
     ]
    }
   ],
   "source": [
    "file_path='depreciation.xlsx'\n",
    "data=pd.read_excel(file_path)\n",
    "print(data)"
   ]
  },
  {
   "cell_type": "code",
   "execution_count": null,
   "id": "391d0663-87ab-484d-b447-b5c069959c09",
   "metadata": {},
   "outputs": [],
   "source": []
  }
 ],
 "metadata": {
  "kernelspec": {
   "display_name": "Python 3 (ipykernel)",
   "language": "python",
   "name": "python3"
  },
  "language_info": {
   "codemirror_mode": {
    "name": "ipython",
    "version": 3
   },
   "file_extension": ".py",
   "mimetype": "text/x-python",
   "name": "python",
   "nbconvert_exporter": "python",
   "pygments_lexer": "ipython3",
   "version": "3.12.0"
  }
 },
 "nbformat": 4,
 "nbformat_minor": 5
}
