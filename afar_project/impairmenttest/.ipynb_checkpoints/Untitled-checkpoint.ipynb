{
 "cells": [
  {
   "cell_type": "code",
   "execution_count": 1,
   "id": "9cb389bc-df09-4821-8a6b-39350fc66426",
   "metadata": {},
   "outputs": [],
   "source": [
    "import pandas as pd"
   ]
  },
  {
   "cell_type": "code",
   "execution_count": 24,
   "id": "cacee0d4-8cd8-4c4f-a859-5ac9fb83966c",
   "metadata": {},
   "outputs": [
    {
     "name": "stdout",
     "output_type": "stream",
     "text": [
      "    Financial Year        Purchase date  Bill no  Economic Code  \\\n",
      "0        2017-2018  2017-12-09 00:00:00     12.0      4112310.0   \n",
      "1        2017-2018  2017-12-09 00:00:00     12.0      4112310.0   \n",
      "2        2017-2018  2017-12-09 00:00:00     12.0      4112310.0   \n",
      "3        2017-2018  2017-12-09 00:00:00     12.0      4112310.0   \n",
      "4        2017-2018  2017-12-09 00:00:00     12.0      4112310.0   \n",
      "..             ...                  ...      ...            ...   \n",
      "296      2021-2022           30/06/2022    272.0            NaN   \n",
      "297      2021-2022           30/06/2022    272.0            NaN   \n",
      "298      2021-2022           30/06/2022    272.0            NaN   \n",
      "299      2021-2022           30/06/2022    272.0            NaN   \n",
      "300            NaN                  NaN      NaN            NaN   \n",
      "\n",
      "                  Category                           Name of Item  \\\n",
      "0         Office equipment                            Fixed Chair   \n",
      "1         Office equipment                        Sider Extension   \n",
      "2         Office equipment                        Executive Table   \n",
      "3         Office equipment                            Drawer Unit   \n",
      "4         Office equipment                           Swivel Chair   \n",
      "..                     ...                                    ...   \n",
      "296  Furniture (Leasehold)                        Director Chair    \n",
      "297  Furniture (Leasehold)        IT,Accounts,Head of Admin Chair   \n",
      "298  Furniture (Leasehold)  Executive Director Double Seater Sofa   \n",
      "299  Furniture (Leasehold)                    Open Collaboration    \n",
      "300                    NaN                                    NaN   \n",
      "\n",
      "      Brand Name  Fair value less cost to sale  Value in use  \n",
      "0    Rubel/Local                           NaN           NaN  \n",
      "1    Rubel/Local                           NaN           NaN  \n",
      "2    Rubel/Local                           NaN           NaN  \n",
      "3    Rubel/Local                           NaN           NaN  \n",
      "4    Rubel/Local                           NaN           NaN  \n",
      "..           ...                           ...           ...  \n",
      "296          NaN                           NaN           NaN  \n",
      "297          NaN                           NaN           NaN  \n",
      "298          NaN                           NaN           NaN  \n",
      "299          NaN                           NaN           NaN  \n",
      "300          NaN                           NaN           NaN  \n",
      "\n",
      "[301 rows x 9 columns]\n"
     ]
    }
   ],
   "source": [
    "    file_path=\"asset_register.xlsx\"\n",
    "    primary_df=pd.read_excel(file_path)\n",
    "    impairment_part=pd.DataFrame({\"Book Value\":[],Fair value less cost to sale\": [],\"Value in use\":[]})\n",
    "    primary_df=primary_df[[\"Financial Year\",\"Purchase date\",\"Bill no\",\"Economic Code\",\"Category\",\"Name of Item\",\"Brand Name\"]]\n",
    "    primary_df=pd.concat([primary_df,impairment_part],join=\"outer\")\n",
    "    print(primary_df)\n",
    "    table=primary_df\n",
    "    table.to_excel(\"anik.xlsx\",index=False)\n"
   ]
  },
  {
   "cell_type": "code",
   "execution_count": null,
   "id": "bb6339ad-76b9-4637-a520-f1327f81a399",
   "metadata": {},
   "outputs": [],
   "source": []
  }
 ],
 "metadata": {
  "kernelspec": {
   "display_name": "Python 3 (ipykernel)",
   "language": "python",
   "name": "python3"
  },
  "language_info": {
   "codemirror_mode": {
    "name": "ipython",
    "version": 3
   },
   "file_extension": ".py",
   "mimetype": "text/x-python",
   "name": "python",
   "nbconvert_exporter": "python",
   "pygments_lexer": "ipython3",
   "version": "3.12.1"
  }
 },
 "nbformat": 4,
 "nbformat_minor": 5
}
