{
 "cells": [
  {
   "cell_type": "code",
   "execution_count": 1,
   "id": "9cb389bc-df09-4821-8a6b-39350fc66426",
   "metadata": {},
   "outputs": [],
   "source": [
    "import pandas as pd"
   ]
  },
  {
   "cell_type": "code",
   "execution_count": 33,
   "id": "cacee0d4-8cd8-4c4f-a859-5ac9fb83966c",
   "metadata": {},
   "outputs": [
    {
     "name": "stdout",
     "output_type": "stream",
     "text": [
      "  Financial Year        Purchase date   Sl  Bill no  Economic Code  \\\n",
      "0      2017-2018  2017-12-09 00:00:00  1.0     12.0      4112310.0   \n",
      "\n",
      "           Category Name of Item   Brand Name   Model/Type Units  ...  \\\n",
      "0  Office equipment  Fixed Chair  Rubel/Local  AFL-CRV-122     6  ...   \n",
      "\n",
      "     Price  Sold (unit) Cost of Assets Sold  Current Balance  \\\n",
      "0  56862.0            3             28431.0          28431.0   \n",
      "\n",
      "     Asset Code (!)          Asset Code Expected life  Depreciation Method  \\\n",
      "0  FRC-HQ-OE-2017-1  FRC-HQ-OE-2017-001           7.0                  SLM   \n",
      "\n",
      "  Location Current Depreciation  \n",
      "0       HQ                  0.0  \n",
      "\n",
      "[1 rows x 21 columns]\n"
     ]
    }
   ],
   "source": [
    "file = 'asset_register.xlsx'\n",
    "data= pd.read_excel(file)\n",
    "print(data.loc[(data[\"Bill no\"] == 12) & (data[\"Financial Year\"] == \"2017-2018\") & (data[\"Sl\"] == 1.0) ])"
   ]
  },
  {
   "cell_type": "code",
   "execution_count": null,
   "id": "bb6339ad-76b9-4637-a520-f1327f81a399",
   "metadata": {},
   "outputs": [],
   "source": []
  }
 ],
 "metadata": {
  "kernelspec": {
   "display_name": "Python 3 (ipykernel)",
   "language": "python",
   "name": "python3"
  },
  "language_info": {
   "codemirror_mode": {
    "name": "ipython",
    "version": 3
   },
   "file_extension": ".py",
   "mimetype": "text/x-python",
   "name": "python",
   "nbconvert_exporter": "python",
   "pygments_lexer": "ipython3",
   "version": "3.12.1"
  }
 },
 "nbformat": 4,
 "nbformat_minor": 5
}
