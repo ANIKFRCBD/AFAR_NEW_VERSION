{
 "cells": [
  {
   "cell_type": "code",
   "execution_count": 1,
   "id": "9cb389bc-df09-4821-8a6b-39350fc66426",
   "metadata": {},
   "outputs": [],
   "source": [
    "import pandas as pd"
   ]
  },
  {
   "cell_type": "code",
   "execution_count": 40,
   "id": "cacee0d4-8cd8-4c4f-a859-5ac9fb83966c",
   "metadata": {},
   "outputs": [
    {
     "data": {
      "text/plain": [
       "3"
      ]
     },
     "execution_count": 40,
     "metadata": {},
     "output_type": "execute_result"
    }
   ],
   "source": [
    "def find (*args):\n",
    "        a=args[0]\n",
    "        b=args[1]\n",
    "        c=a+b\n",
    "        return c\n",
    "\n",
    "find(1,2)"
   ]
  },
  {
   "cell_type": "code",
   "execution_count": null,
   "id": "bb6339ad-76b9-4637-a520-f1327f81a399",
   "metadata": {},
   "outputs": [],
   "source": []
  }
 ],
 "metadata": {
  "kernelspec": {
   "display_name": "Python 3 (ipykernel)",
   "language": "python",
   "name": "python3"
  },
  "language_info": {
   "codemirror_mode": {
    "name": "ipython",
    "version": 3
   },
   "file_extension": ".py",
   "mimetype": "text/x-python",
   "name": "python",
   "nbconvert_exporter": "python",
   "pygments_lexer": "ipython3",
   "version": "3.12.1"
  }
 },
 "nbformat": 4,
 "nbformat_minor": 5
}
