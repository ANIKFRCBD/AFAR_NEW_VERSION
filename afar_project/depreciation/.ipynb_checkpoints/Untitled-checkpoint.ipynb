{
 "cells": [
  {
   "cell_type": "code",
   "execution_count": 39,
   "id": "831ef1db-e855-4520-9243-e580a30f2715",
   "metadata": {},
   "outputs": [],
   "source": [
    "import pandas as pd\n",
    "from datetime import datetime"
   ]
  },
  {
   "cell_type": "code",
   "execution_count": 51,
   "id": "de521f03-9bad-4aea-b6e0-d45322d0f39d",
   "metadata": {},
   "outputs": [
    {
     "name": "stdout",
     "output_type": "stream",
     "text": [
      "2024\n"
     ]
    },
    {
     "ename": "KeyError",
     "evalue": "1",
     "output_type": "error",
     "traceback": [
      "\u001b[1;31m---------------------------------------------------------------------------\u001b[0m",
      "\u001b[1;31mKeyError\u001b[0m                                  Traceback (most recent call last)",
      "Cell \u001b[1;32mIn[51], line 16\u001b[0m\n\u001b[0;32m     14\u001b[0m \u001b[38;5;28;01mfor\u001b[39;00m i \u001b[38;5;129;01min\u001b[39;00m list_of_years:\n\u001b[0;32m     15\u001b[0m     df[i]\u001b[38;5;241m=\u001b[39m\u001b[38;5;241m0\u001b[39m\n\u001b[1;32m---> 16\u001b[0m \u001b[38;5;28mprint\u001b[39m(\u001b[43mlist_of_years\u001b[49m\u001b[43m[\u001b[49m\u001b[38;5;241;43m1\u001b[39;49m\u001b[43m]\u001b[49m)\n",
      "\u001b[1;31mKeyError\u001b[0m: 1"
     ]
    }
   ],
   "source": [
    "file_path ='asset_register.xlsx'\n",
    "\n",
    "df = pd.read_excel(file_path)\n",
    "df=df[['Financial Year','Asset Code','Purchase date','Sl ','Bill no','Economic Code','Category','Name of Item','Brand Name','Model/Type','Units','Modified Number','Price','Sold (unit)','Cost of Assets Sold','Current Balance']]\n",
    "df[['Cost of Assets Sold']]=df[['Cost of Assets Sold']].fillna(0)\n",
    "df['Current Balance']=df['Price']-df['Cost of Assets Sold']\n",
    "years=df['Financial Year'].drop_duplicates()\n",
    "current_year=datetime.now()\n",
    "print(current_year.year)\n",
    "list_of_years={}\n",
    "for i in years:\n",
    "    d=i.split('-')\n",
    "    list_of_years[f'{i}']=int(d[1])\n",
    "for i in list_of_years:\n",
    "    df[i]=0\n",
    "print(list_of_years[1])"
   ]
  },
  {
   "cell_type": "code",
   "execution_count": 63,
   "id": "a23ae8e7-69ad-4987-bf2e-50f9c960d2c6",
   "metadata": {},
   "outputs": [],
   "source": [
    "df=df[['Financial Year','Asset Code','Purchase date','Sl ','Bill no','Economic Code','Category','Name of Item','Brand Name','Model/Type','Units','Modified Number','Price','Sold (unit)','Cost of Assets Sold','Current Balance']]"
   ]
  },
  {
   "cell_type": "code",
   "execution_count": 67,
   "id": "46a7a9e5-b2de-4448-a5ff-03424126013f",
   "metadata": {},
   "outputs": [],
   "source": []
  },
  {
   "cell_type": "code",
   "execution_count": 68,
   "id": "977c5bfa-386d-402b-a80e-4fa3e397dfb9",
   "metadata": {},
   "outputs": [],
   "source": []
  },
  {
   "cell_type": "code",
   "execution_count": null,
   "id": "15faa3db-2469-4e06-bdd7-43a148fdc65f",
   "metadata": {},
   "outputs": [],
   "source": []
  }
 ],
 "metadata": {
  "kernelspec": {
   "display_name": "Python 3 (ipykernel)",
   "language": "python",
   "name": "python3"
  },
  "language_info": {
   "codemirror_mode": {
    "name": "ipython",
    "version": 3
   },
   "file_extension": ".py",
   "mimetype": "text/x-python",
   "name": "python",
   "nbconvert_exporter": "python",
   "pygments_lexer": "ipython3",
   "version": "3.12.0"
  }
 },
 "nbformat": 4,
 "nbformat_minor": 5
}
