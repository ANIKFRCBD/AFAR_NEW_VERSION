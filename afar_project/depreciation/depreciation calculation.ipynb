{
 "cells": [
  {
   "cell_type": "code",
   "execution_count": 1,
   "id": "b813ec1d-4739-40d9-9f48-54fa2bc64c2f",
   "metadata": {},
   "outputs": [],
   "source": [
    "import pandas as pd\n",
    "from datetime import datetime"
   ]
  },
  {
   "cell_type": "code",
   "execution_count": 34,
   "id": "8a8d535c-5aac-42eb-a33f-3652dbc44e7b",
   "metadata": {},
   "outputs": [
    {
     "name": "stdout",
     "output_type": "stream",
     "text": [
      "1\n",
      "2\n",
      "3\n",
      "4\n",
      "5\n",
      "6\n",
      "7\n"
     ]
    }
   ],
   "source": [
    "file=\"depreciation.xlsx\"\n",
    "data_sheet=pd.read_excel(file)\n",
    "\n",
    "cols=data_sheet.columns[-7:]\n",
    "cols=list(cols)\n",
    "for i in cols:\n",
    "    print(cols.index(i)+1)\n",
    "for row in range(len(data_sheet)):\n",
    "    z=(data_sheet.loc[row,])\n"
   ]
  },
  {
   "cell_type": "code",
   "execution_count": null,
   "id": "8f06193d-d556-4152-a77e-ced304909522",
   "metadata": {},
   "outputs": [],
   "source": []
  }
 ],
 "metadata": {
  "kernelspec": {
   "display_name": "Python 3 (ipykernel)",
   "language": "python",
   "name": "python3"
  },
  "language_info": {
   "codemirror_mode": {
    "name": "ipython",
    "version": 3
   },
   "file_extension": ".py",
   "mimetype": "text/x-python",
   "name": "python",
   "nbconvert_exporter": "python",
   "pygments_lexer": "ipython3",
   "version": "3.12.1"
  }
 },
 "nbformat": 4,
 "nbformat_minor": 5
}
