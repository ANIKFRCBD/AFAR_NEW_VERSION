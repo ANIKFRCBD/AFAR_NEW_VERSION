{
 "cells": [
  {
   "cell_type": "code",
   "execution_count": 2,
   "id": "c27fd67f-4b33-451e-adcc-2d987c009042",
   "metadata": {},
   "outputs": [],
   "source": [
    "from django.shortcuts import render\n",
    "from django.http import request\n",
    "import pandas as pd"
   ]
  },
  {
   "cell_type": "code",
   "execution_count": 3,
   "id": "0251bdf6-bdd1-48d7-bded-74f6ea513324",
   "metadata": {},
   "outputs": [
    {
     "name": "stdout",
     "output_type": "stream",
     "text": [
      "  Financial Year  Number of Instances (Bills)  Number of Items\n",
      "0      2017-2018                           53              143\n",
      "1      2018-2019                           57              667\n",
      "2      2019-2020                           18               31\n",
      "3      2020-2021                           14               28\n",
      "4      2021-2022                          158             1587\n",
      "5         TOTAL                           300             2456\n"
     ]
    }
   ],
   "source": [
    "file_path = r'asset_register.xlsx'  # Replace with the actual file path\n",
    "df = pd.read_excel(file_path)\n",
    "list_primary=df['Financial Year']\n",
    "list_primary=list_primary.drop_duplicates().dropna()\n",
    "list_count=list_primary\n",
    "total_bills=0\n",
    "total_items=0\n",
    "table=pd.DataFrame(columns=['Financial Year','Number of Instances (Bills)','Number of Items'])\n",
    "for i in list_count:\n",
    "    j= df[df['Financial Year'] == i].shape[0]\n",
    "    t= df[df['Financial Year'] == i]['Modified Number'].sum()\n",
    "    new_row = pd.DataFrame({'Financial Year': [i], 'Number of Instances (Bills)': [j],'Number of Items':[t]})\n",
    "    table = pd.concat([table, new_row], ignore_index=True)\n",
    "    total_bills=total_bills+j\n",
    "    total_items=total_items+t\n",
    "new_list=table\n",
    "new_row = pd.DataFrame({'Financial Year': \"TOTAL \", 'Number of Instances (Bills)': [total_bills],\"Number of Items\":[total_items]})\n",
    "table = pd.concat([new_list, new_row], ignore_index=True)\n",
    "table=table.fillna(' ')\n",
    "print(table)"
   ]
  },
  {
   "cell_type": "code",
   "execution_count": null,
   "id": "7eaed4f3-ecea-4cc0-8f39-f0580f5b04cc",
   "metadata": {},
   "outputs": [],
   "source": []
  }
 ],
 "metadata": {
  "kernelspec": {
   "display_name": "Python 3 (ipykernel)",
   "language": "python",
   "name": "python3"
  },
  "language_info": {
   "codemirror_mode": {
    "name": "ipython",
    "version": 3
   },
   "file_extension": ".py",
   "mimetype": "text/x-python",
   "name": "python",
   "nbconvert_exporter": "python",
   "pygments_lexer": "ipython3",
   "version": "3.12.1"
  }
 },
 "nbformat": 4,
 "nbformat_minor": 5
}
